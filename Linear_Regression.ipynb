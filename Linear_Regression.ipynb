{
  "nbformat": 4,
  "nbformat_minor": 0,
  "metadata": {
    "colab": {
      "provenance": []
    },
    "kernelspec": {
      "name": "python3",
      "display_name": "Python 3"
    },
    "language_info": {
      "name": "python"
    }
  },
  "cells": [
    {
      "cell_type": "markdown",
      "source": [
        "## **GET DATASET**"
      ],
      "metadata": {
        "id": "u4glPbeW7PmV"
      }
    },
    {
      "cell_type": "code",
      "source": [
        "# Example Simple Dataset\n",
        "!wget https://download1514.mediafire.com/a2c2z3m5hqmgn32vhzJaN8MO72DRKx-3dBADaA3w8rehOq6s3UHxdGfwR3I6doCTt57bP53huh29v3_LZC-Eckj4n2aofKd-R-w8PfFh-V8Pkq6A0kuA9j7AXQA0ycwL3CDKkmC6OulN3v2YjkfgpIUkaDT0hZrJvmAG-qBju6wXfSgb/ddce95yi2nrck70/motivasi.csv"
      ],
      "metadata": {
        "id": "Ru8ZMxpWo0zw"
      },
      "execution_count": null,
      "outputs": []
    },
    {
      "cell_type": "code",
      "source": [
        "# UCI Bike Dataset\n",
        "!wget https://archive.ics.uci.edu/static/public/275/bike+sharing+dataset.zip"
      ],
      "metadata": {
        "id": "VuRY35GCiEPn"
      },
      "execution_count": null,
      "outputs": []
    },
    {
      "cell_type": "code",
      "source": [
        "# Unzip UCI Bike Dataset\n",
        "!unzip bike+sharing+dataset.zip"
      ],
      "metadata": {
        "id": "sAsoj9MudV2B"
      },
      "execution_count": null,
      "outputs": []
    },
    {
      "cell_type": "markdown",
      "source": [
        "## **PREPARING REQUIREMENTS**"
      ],
      "metadata": {
        "id": "UBdqYkZw7aKn"
      }
    },
    {
      "cell_type": "code",
      "source": [
        "import pandas as pd\n",
        "import numpy as np\n",
        "import matplotlib.pyplot as plt\n",
        "import copy\n",
        "import seaborn as sns\n",
        "import tensorflow as tf\n",
        "from sklearn.linear_model import LinearRegression\n",
        "from sklearn.metrics import mean_squared_error\n",
        "from mpl_toolkits.mplot3d import Axes3D"
      ],
      "metadata": {
        "id": "xewWull2ZNM7"
      },
      "execution_count": 112,
      "outputs": []
    },
    {
      "cell_type": "code",
      "source": [
        "# df = pd.read_csv(\"student-mat.csv\",  sep=\";\").drop(columns=[\"address\", \"school\", \"famsize\", \"Pstatus\", \"Mjob\",\"Fjob\", \"reason\", \"guardian\". \"sex\"])\n",
        "# df = pd.read_csv(\"motif.csv\").drop(columns=[\"dteday\"])\n",
        "# df = pd.read_csv(\"day.csv\")\n",
        "df = pd.read_csv(\"motivasi.csv\", sep=';')\n",
        "# df['schoolsup'] = df['schoolsup'].map({'yes': 1, 'no': 0})\n",
        "df.head()"
      ],
      "metadata": {
        "id": "fUCb5s68ZYjf"
      },
      "execution_count": null,
      "outputs": []
    },
    {
      "cell_type": "code",
      "source": [
        "# Plotting each features\n",
        "for label in df.columns[:-1]:\n",
        "  plt.scatter(df[label], df[\"y\"])\n",
        "  plt.title(label)\n",
        "  plt.ylabel(\"Features\")\n",
        "  plt.xlabel(label)\n",
        "  plt.show()"
      ],
      "metadata": {
        "id": "E1TIGOAktLq-"
      },
      "execution_count": null,
      "outputs": []
    },
    {
      "cell_type": "markdown",
      "source": [
        "## **PREPARING DATASET FOR TRAINING**"
      ],
      "metadata": {
        "id": "IGGLjC0cAvh-"
      }
    },
    {
      "cell_type": "code",
      "source": [
        "# 60% training data (random), 20% validation data, and 20% testing data\n",
        "# train, val, test = np.split(df.sample(frac=1), [int(0.6*len(df)), int(0.8*len(df))])\n",
        "\n",
        "# 60% training data (non-random), 20% validation data, and 20% testing data\n",
        "total_len = len(df)\n",
        "idx_train_end = int(0.6 * total_len)\n",
        "idx_val_end = int(0.8 * total_len)\n",
        "train = df[:idx_train_end]\n",
        "val = df[idx_train_end:idx_val_end]\n",
        "test = df[idx_val_end:]\n",
        "\n",
        "# 100% training data\n",
        "# train = df.copy()"
      ],
      "metadata": {
        "id": "O_12fmWJvX6B"
      },
      "execution_count": 197,
      "outputs": []
    },
    {
      "cell_type": "code",
      "source": [
        "# Function to split data into features and target\n",
        "def get_xy(dataframe, y_label, x_labels=None):\n",
        "    # Make a deep copy of the dataframe\n",
        "    dataframe = copy.deepcopy(dataframe)\n",
        "\n",
        "    # If x_labels are not provided (None), use all columns as features\n",
        "    if x_labels is None:\n",
        "        X = dataframe[[c for c in dataframe.columns if c != y_label]].values\n",
        "    else:\n",
        "        # If x_labels are provided\n",
        "        if len(x_labels) == 1:\n",
        "            # If only one x column is given, reshape it to the appropriate form\n",
        "            X = dataframe[x_labels[0]].values.reshape(-1, 1)\n",
        "        else:\n",
        "            # If more than one x column is given, use all of them\n",
        "            X = dataframe[x_labels].values\n",
        "\n",
        "    # Get the target values (y) and reshape it into a 2D array\n",
        "    y = dataframe[y_label].values.reshape(-1, 1)\n",
        "\n",
        "    # Concatenate features (X) and target (y) into a single array\n",
        "    data = np.hstack((X, y))\n",
        "\n",
        "    # Return the data, features (X), and target (y)\n",
        "    return data, X, y"
      ],
      "metadata": {
        "id": "7iF_jBKuvCh0"
      },
      "execution_count": 95,
      "outputs": []
    },
    {
      "cell_type": "markdown",
      "source": [
        "## **TRAINING DATASET (SIMPLE LINEAR REGRESSION)**"
      ],
      "metadata": {
        "id": "dUPr6H1nOxFP"
      }
    },
    {
      "cell_type": "code",
      "source": [
        "_, X_train_x1, y_train_x1 = get_xy(train, \"y\", x_labels=[['x1']])\n",
        "_, X_val_x1, y_val_x1 = get_xy(val, \"y\", x_labels=[['x1']])\n",
        "_, X_test_x1, y_test_x1 = get_xy(test, \"y\", x_labels=[['x1']])"
      ],
      "metadata": {
        "id": "MJZO5o-jvE0K"
      },
      "execution_count": 198,
      "outputs": []
    },
    {
      "cell_type": "code",
      "execution_count": 199,
      "metadata": {
        "id": "elpdUNcrZJx-",
        "colab": {
          "base_uri": "https://localhost:8080/",
          "height": 74
        },
        "outputId": "df37a6a4-5b70-44eb-f4d3-b93d0e0a7a44"
      },
      "outputs": [
        {
          "output_type": "execute_result",
          "data": {
            "text/plain": [
              "LinearRegression()"
            ],
            "text/html": [
              "<style>#sk-container-id-17 {color: black;background-color: white;}#sk-container-id-17 pre{padding: 0;}#sk-container-id-17 div.sk-toggleable {background-color: white;}#sk-container-id-17 label.sk-toggleable__label {cursor: pointer;display: block;width: 100%;margin-bottom: 0;padding: 0.3em;box-sizing: border-box;text-align: center;}#sk-container-id-17 label.sk-toggleable__label-arrow:before {content: \"▸\";float: left;margin-right: 0.25em;color: #696969;}#sk-container-id-17 label.sk-toggleable__label-arrow:hover:before {color: black;}#sk-container-id-17 div.sk-estimator:hover label.sk-toggleable__label-arrow:before {color: black;}#sk-container-id-17 div.sk-toggleable__content {max-height: 0;max-width: 0;overflow: hidden;text-align: left;background-color: #f0f8ff;}#sk-container-id-17 div.sk-toggleable__content pre {margin: 0.2em;color: black;border-radius: 0.25em;background-color: #f0f8ff;}#sk-container-id-17 input.sk-toggleable__control:checked~div.sk-toggleable__content {max-height: 200px;max-width: 100%;overflow: auto;}#sk-container-id-17 input.sk-toggleable__control:checked~label.sk-toggleable__label-arrow:before {content: \"▾\";}#sk-container-id-17 div.sk-estimator input.sk-toggleable__control:checked~label.sk-toggleable__label {background-color: #d4ebff;}#sk-container-id-17 div.sk-label input.sk-toggleable__control:checked~label.sk-toggleable__label {background-color: #d4ebff;}#sk-container-id-17 input.sk-hidden--visually {border: 0;clip: rect(1px 1px 1px 1px);clip: rect(1px, 1px, 1px, 1px);height: 1px;margin: -1px;overflow: hidden;padding: 0;position: absolute;width: 1px;}#sk-container-id-17 div.sk-estimator {font-family: monospace;background-color: #f0f8ff;border: 1px dotted black;border-radius: 0.25em;box-sizing: border-box;margin-bottom: 0.5em;}#sk-container-id-17 div.sk-estimator:hover {background-color: #d4ebff;}#sk-container-id-17 div.sk-parallel-item::after {content: \"\";width: 100%;border-bottom: 1px solid gray;flex-grow: 1;}#sk-container-id-17 div.sk-label:hover label.sk-toggleable__label {background-color: #d4ebff;}#sk-container-id-17 div.sk-serial::before {content: \"\";position: absolute;border-left: 1px solid gray;box-sizing: border-box;top: 0;bottom: 0;left: 50%;z-index: 0;}#sk-container-id-17 div.sk-serial {display: flex;flex-direction: column;align-items: center;background-color: white;padding-right: 0.2em;padding-left: 0.2em;position: relative;}#sk-container-id-17 div.sk-item {position: relative;z-index: 1;}#sk-container-id-17 div.sk-parallel {display: flex;align-items: stretch;justify-content: center;background-color: white;position: relative;}#sk-container-id-17 div.sk-item::before, #sk-container-id-17 div.sk-parallel-item::before {content: \"\";position: absolute;border-left: 1px solid gray;box-sizing: border-box;top: 0;bottom: 0;left: 50%;z-index: -1;}#sk-container-id-17 div.sk-parallel-item {display: flex;flex-direction: column;z-index: 1;position: relative;background-color: white;}#sk-container-id-17 div.sk-parallel-item:first-child::after {align-self: flex-end;width: 50%;}#sk-container-id-17 div.sk-parallel-item:last-child::after {align-self: flex-start;width: 50%;}#sk-container-id-17 div.sk-parallel-item:only-child::after {width: 0;}#sk-container-id-17 div.sk-dashed-wrapped {border: 1px dashed gray;margin: 0 0.4em 0.5em 0.4em;box-sizing: border-box;padding-bottom: 0.4em;background-color: white;}#sk-container-id-17 div.sk-label label {font-family: monospace;font-weight: bold;display: inline-block;line-height: 1.2em;}#sk-container-id-17 div.sk-label-container {text-align: center;}#sk-container-id-17 div.sk-container {/* jupyter's `normalize.less` sets `[hidden] { display: none; }` but bootstrap.min.css set `[hidden] { display: none !important; }` so we also need the `!important` here to be able to override the default hidden behavior on the sphinx rendered scikit-learn.org. See: https://github.com/scikit-learn/scikit-learn/issues/21755 */display: inline-block !important;position: relative;}#sk-container-id-17 div.sk-text-repr-fallback {display: none;}</style><div id=\"sk-container-id-17\" class=\"sk-top-container\"><div class=\"sk-text-repr-fallback\"><pre>LinearRegression()</pre><b>In a Jupyter environment, please rerun this cell to show the HTML representation or trust the notebook. <br />On GitHub, the HTML representation is unable to render, please try loading this page with nbviewer.org.</b></div><div class=\"sk-container\" hidden><div class=\"sk-item\"><div class=\"sk-estimator sk-toggleable\"><input class=\"sk-toggleable__control sk-hidden--visually\" id=\"sk-estimator-id-17\" type=\"checkbox\" checked><label for=\"sk-estimator-id-17\" class=\"sk-toggleable__label sk-toggleable__label-arrow\">LinearRegression</label><div class=\"sk-toggleable__content\"><pre>LinearRegression()</pre></div></div></div></div></div>"
            ]
          },
          "metadata": {},
          "execution_count": 199
        }
      ],
      "source": [
        "# Create a linear regression model object\n",
        "x1_reg = LinearRegression()\n",
        "\n",
        "# Fit the model with training data\n",
        "x1_reg.fit(X_train_x1, y_train_x1)"
      ]
    },
    {
      "cell_type": "markdown",
      "source": [
        "## **TESING AND SCORE**"
      ],
      "metadata": {
        "id": "M9J6GQ8XKkLf"
      }
    },
    {
      "cell_type": "code",
      "source": [
        "print(\"Intercept = \", x1_reg.intercept_)\n",
        "print(\"Coeficient = \", x1_reg.coef_)"
      ],
      "metadata": {
        "id": "3EVC-dj3IIUd"
      },
      "execution_count": null,
      "outputs": []
    },
    {
      "cell_type": "code",
      "source": [
        "print(\"R-Square = \", x1_reg.score(X_train_x1, y_train_x1))\n",
        "print(\"RMSE = \", np.sqrt(mean_squared_error(y_train_x1, x1_reg.predict(X_train_x1))))"
      ],
      "metadata": {
        "id": "qBHj_9x_vnk1"
      },
      "execution_count": null,
      "outputs": []
    },
    {
      "cell_type": "code",
      "source": [
        "# Randomly select a row from the DataFrame\n",
        "df_random_row = df.sample(n=1)\n",
        "\n",
        "# Specify the name of the feature column to be used\n",
        "x_column_name = 'x1'  # Replace with the appropriate column name\n",
        "\n",
        "# Retrieve the values of x and y\n",
        "x_value = df_random_row[x_column_name].values[0]\n",
        "y_value = df_random_row['y'].values[0]\n",
        "\n",
        "# Calculate the prediction using the linear regression model\n",
        "# predicted_y = temp_reg.predict(np.array([[x_value]]))[0]\n",
        "predicted_y = x1_reg.intercept_ + x1_reg.coef_ * x_value\n",
        "\n",
        "# Calculate the residual\n",
        "residual = abs(predicted_y - y_value)\n",
        "\n",
        "# Print the results\n",
        "print(\"X = \", x_value)\n",
        "print(\"Actual Y = \", y_value)\n",
        "print(\"Predicted Y = \", predicted_y)\n",
        "print(\"Residual = \", residual)"
      ],
      "metadata": {
        "id": "my__xsysMlk8"
      },
      "execution_count": null,
      "outputs": []
    },
    {
      "cell_type": "code",
      "source": [
        "# Plotting relationship between x1 and y\n",
        "plt.scatter(X_train_x1, y_train_x1, label=\"Data\", color=\"blue\")\n",
        "x = tf.linspace(-20, 100, 100)\n",
        "plt.plot(x, x1_reg.predict(np.array(x).reshape(-1, 1)), label=\"Fit\", color=\"red\", linewidth=3)\n",
        "plt.legend()\n",
        "plt.title(\"X1 vs Y\")\n",
        "plt.ylabel(\"y\")\n",
        "plt.xlabel(\"x1\")\n",
        "plt.show()"
      ],
      "metadata": {
        "id": "0iGzbEIJvne5"
      },
      "execution_count": null,
      "outputs": []
    },
    {
      "cell_type": "markdown",
      "source": [
        "## **TRAINING DATASET (MULTIPLE LINEAR REGRESSION)**"
      ],
      "metadata": {
        "id": "O84cGUjV3r41"
      }
    },
    {
      "cell_type": "code",
      "source": [
        "_, X_train_all, y_train_all = get_xy(train, \"y\", x_labels=df.columns[:-1])\n",
        "_, X_val_all, y_val_all = get_xy(val, \"y\", x_labels=df.columns[:-1])\n",
        "_, X_test_all, y_test_all = get_xy(test, \"y\", x_labels=df.columns[:-1])"
      ],
      "metadata": {
        "id": "UIniU1_rOQou"
      },
      "execution_count": 204,
      "outputs": []
    },
    {
      "cell_type": "code",
      "source": [
        "# Create a linear regression model object\n",
        "all_reg = LinearRegression()\n",
        "\n",
        "# Fit the model with training data\n",
        "all_reg.fit(X_train_all, y_train_all)"
      ],
      "metadata": {
        "id": "_T3pJGnrOT0m"
      },
      "execution_count": null,
      "outputs": []
    },
    {
      "cell_type": "markdown",
      "source": [
        "## **TESTING AND SCORE**"
      ],
      "metadata": {
        "id": "MJNAfV8DOWFD"
      }
    },
    {
      "cell_type": "code",
      "source": [
        "print(\"Intercept = \", all_reg.intercept_)\n",
        "print(\"Coeficient = \", all_reg.coef_)"
      ],
      "metadata": {
        "id": "f6njOepjXwr_"
      },
      "execution_count": null,
      "outputs": []
    },
    {
      "cell_type": "code",
      "source": [
        "print(\"R-Square = \", all_reg.score(X_train_all, y_train_all))\n",
        "print(\"RMSE = \", np.sqrt(mean_squared_error(y_train_all, all_reg.predict(X_train_all))))"
      ],
      "metadata": {
        "id": "PYkORbCPXF9i"
      },
      "execution_count": null,
      "outputs": []
    },
    {
      "cell_type": "code",
      "source": [
        "# Sample a random row from the DataFrame\n",
        "df_random_row = df.sample(n=1)\n",
        "\n",
        "# Extract 'x1' and 'x2' values\n",
        "x_values = df_random_row[['x1', 'x2']].values[0]\n",
        "\n",
        "# Retrieve the actual value from the 'y' column\n",
        "y_value = df_random_row['y'].values[0]\n",
        "\n",
        "# Calculate the prediction using the multi-linear regression model\n",
        "predicted_y = all_reg.intercept_ + np.sum(all_reg.coef_ * x_values)\n",
        "\n",
        "# Calculate the residual\n",
        "residual = abs(predicted_y - y_value)\n",
        "\n",
        "# Print the results\n",
        "print(\"X values = \", x_values)\n",
        "print(\"Actual Y = \", y_value)\n",
        "print(\"Predicted Y = \", predicted_y)\n",
        "print(\"Residual = \", residual)"
      ],
      "metadata": {
        "id": "nDB9Q4mm3w19"
      },
      "execution_count": null,
      "outputs": []
    },
    {
      "cell_type": "code",
      "source": [
        "fig = plt.figure()\n",
        "ax = fig.add_subplot(111, projection='3d')\n",
        "\n",
        "# Plotting x1, x2, and y\n",
        "ax.scatter(df['x1'], df['x2'], df['y'], c='r', marker='o', label='Data')\n",
        "\n",
        "# Including label axis\n",
        "ax.set_xlabel('x1')\n",
        "ax.set_ylabel('x2')\n",
        "ax.set_zlabel('y')\n",
        "\n",
        "# Showing plot\n",
        "plt.title('Hubungan x1, x2, dan y')\n",
        "plt.legend(loc='upper left')\n",
        "plt.show()"
      ],
      "metadata": {
        "id": "dq9G5Eyz6Wil"
      },
      "execution_count": null,
      "outputs": []
    }
  ]
}