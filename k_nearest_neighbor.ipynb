{
  "nbformat": 4,
  "nbformat_minor": 0,
  "metadata": {
    "colab": {
      "provenance": []
    },
    "kernelspec": {
      "name": "python3",
      "display_name": "Python 3"
    },
    "language_info": {
      "name": "python"
    }
  },
  "cells": [
    {
      "cell_type": "markdown",
      "source": [
        "## **GET DATASET**"
      ],
      "metadata": {
        "id": "Et6txWTvm9K5"
      }
    },
    {
      "cell_type": "code",
      "source": [
        "# Example Simple Dataset\n",
        "!wget https://download940.mediafire.com/nqiefe3gcofghGCqewMc66UQM7ORYEPCunmX3vndy4U-Ml0lngjAvRjJAvJB9JO9xM9d1UXqYvVkwFf7WcTClNjpHKLpZvxepxVYtyEAAxiymjE-45XBm8NRxrfitbfkfOrazdt7rMR9iBRxP9J1QSyIRtfp3-jyReg7gV9FGhN_55HZ/6uzdf0zfhbo73rk/KNN_blank.xlsx"
      ],
      "metadata": {
        "id": "g27_Isz9nNUr"
      },
      "execution_count": null,
      "outputs": []
    },
    {
      "cell_type": "code",
      "source": [
        "# Iris Classification from UCI\n",
        "!wget https://archive.ics.uci.edu/static/public/53/iris.zip"
      ],
      "metadata": {
        "id": "iO9iEiueoDBs"
      },
      "execution_count": null,
      "outputs": []
    },
    {
      "cell_type": "code",
      "source": [
        "!unzip iris.zip"
      ],
      "metadata": {
        "id": "IrjpA2H_n6OG"
      },
      "execution_count": null,
      "outputs": []
    },
    {
      "cell_type": "markdown",
      "source": [
        "## **PREPARING REQUIREMENTS**"
      ],
      "metadata": {
        "id": "tPkOXzden-O-"
      }
    },
    {
      "cell_type": "code",
      "execution_count": 162,
      "metadata": {
        "id": "KXO9VzLPWK3Y"
      },
      "outputs": [],
      "source": [
        "import numpy as np\n",
        "import openpyxl\n",
        "import pandas as pd\n",
        "import matplotlib.pyplot as plt\n",
        "from sklearn.preprocessing import StandardScaler\n",
        "from sklearn.metrics import classification_report\n",
        "from sklearn.neighbors import KNeighborsClassifier\n",
        "from imblearn.over_sampling import RandomOverSampler\n",
        "from mpl_toolkits.mplot3d import Axes3D\n",
        "# from sklearn.metrics import accuracy_score"
      ]
    },
    {
      "cell_type": "markdown",
      "source": [
        "##### PREPARING DATAFRAME"
      ],
      "metadata": {
        "id": "iY4FIHlcoXuy"
      }
    },
    {
      "cell_type": "code",
      "source": [
        "# UCI Dataset\n",
        "cols = ['sepal_length', 'sepal_width', 'petal_length', 'petal_width', 'class']\n",
        "df = pd.read_csv(\"iris.data\", sep=',', names=cols)\n",
        "\n",
        "# Example Dataset Sheet 1\n",
        "# df = pd.read_excel(\"KNN_blank.xlsx\").drop(columns=['No.'])\n",
        "\n",
        "# Example Dataset Sheet 2 (Iris)\n",
        "# cols = ['sepal_length', 'sepal_width', 'petal_length', 'petal_width', 'class']\n",
        "# df = pd.read_excel(\"KNN_blank.xlsx\", sheet_name='Sheet2', names=cols)\n",
        "df.head()"
      ],
      "metadata": {
        "id": "YA2bEIxNWAIT"
      },
      "execution_count": null,
      "outputs": []
    },
    {
      "cell_type": "markdown",
      "source": [
        "##### PLOTTING HISTOGRAM FROM DATAFRAME"
      ],
      "metadata": {
        "id": "ExTpImS5uIow"
      }
    },
    {
      "cell_type": "code",
      "source": [
        "# UCI Dataset\n",
        "for label in df.columns[:-1]:\n",
        "  plt.hist(df[df[\"class\"]==\"Iris-setosa\"][label], color='blue', label='Iris Sentosa', alpha=0.7, density=True)\n",
        "  plt.hist(df[df[\"class\"]==\"Iris-versicolor\"][label], color='red', label='Iris Versicolor', alpha=0.7, density=True)\n",
        "  plt.hist(df[df[\"class\"]==\"Iris-virginica\"][label], color='green', label='Iris Virginica', alpha=0.7, density=True)\n",
        "  plt.title(label)\n",
        "  plt.ylabel(\"Probability\")\n",
        "  plt.xlabel(label)\n",
        "  plt.legend()\n",
        "  plt.show()"
      ],
      "metadata": {
        "id": "efOKDxbLYWZ6"
      },
      "execution_count": null,
      "outputs": []
    },
    {
      "cell_type": "code",
      "source": [
        "# Example Dataset Sheet 1\n",
        "for label in df.columns[:-1]:\n",
        "  plt.hist(df[df[\"Y\"]==\"Jelek\"][label], color='blue', label='Jelek', alpha=0.7, density=True)\n",
        "  plt.hist(df[df[\"Y\"]==\"Baik\"][label], color='red', label='Baik', alpha=0.7, density=True)\n",
        "  plt.title(label)\n",
        "  plt.ylabel(\"Probability\")\n",
        "  plt.xlabel(label)\n",
        "  plt.legend()\n",
        "  plt.show()"
      ],
      "metadata": {
        "id": "dTSTnfIbvXos"
      },
      "execution_count": null,
      "outputs": []
    },
    {
      "cell_type": "code",
      "source": [
        "# Example Dataset Sheet 2 (Iris)\n",
        "for label in df.columns[:-1]:\n",
        "  plt.hist(df[df[\"class\"]==\"Iris Sentosa\"][label], color='blue', label='Iris Sentosa', alpha=0.7, density=True)\n",
        "  plt.hist(df[df[\"class\"]==\"Iris Versicolor\"][label], color='red', label='Iris Versicolor', alpha=0.7, density=True)\n",
        "  plt.title(label)\n",
        "  plt.ylabel(\"Probability\")\n",
        "  plt.xlabel(label)\n",
        "  plt.legend()\n",
        "  plt.show()"
      ],
      "metadata": {
        "id": "Sn28J4XkvbbC"
      },
      "execution_count": null,
      "outputs": []
    },
    {
      "cell_type": "code",
      "source": [
        "# finding all unique classes in label\n",
        "pd.unique(df['class'])"
      ],
      "metadata": {
        "id": "4Jxki9dFhQ4B"
      },
      "execution_count": null,
      "outputs": []
    },
    {
      "cell_type": "markdown",
      "source": [
        "##### FINDING EUCLIDEAN DISTANCES"
      ],
      "metadata": {
        "id": "MB5J7yUVpXR1"
      }
    },
    {
      "cell_type": "code",
      "source": [
        "# 2D Plot\n",
        "# Example Dataset Sheet 1\n",
        "data = df[df.columns[:-1]].values\n",
        "point_of_interest = [7, 4]\n",
        "distances = np.sqrt(np.sum((data - point_of_interest) ** 2, axis=1))\n",
        "\n",
        "# find x index from nearest neighbor\n",
        "k = 3\n",
        "nearest_indices = np.argsort(distances)[:k]\n",
        "\n",
        "# visualize data\n",
        "plt.scatter(data[:, 0], data[:, 1], label='Data')\n",
        "plt.scatter(point_of_interest[0], point_of_interest[1], color='red', marker='x', label='Point of Interest')\n",
        "\n",
        "# visualize k's nearest neighbor in plot\n",
        "for idx in nearest_indices:\n",
        "    plt.annotate(f'Distance: {distances[idx]:.2f}', (data[idx, 0], data[idx, 1]), textcoords=\"offset points\", xytext=(0, 10), ha='center')\n",
        "\n",
        "plt.legend()\n",
        "plt.xlabel('X1')\n",
        "plt.ylabel('X2')\n",
        "plt.title('K-Nearest Neighbors with Euclidean Distance')\n",
        "plt.show()"
      ],
      "metadata": {
        "id": "McPo4Bx_wCgX"
      },
      "execution_count": null,
      "outputs": []
    },
    {
      "cell_type": "code",
      "source": [
        "# 3D Plot\n",
        "# Example Dataset Sheet 2 (Iris)\n",
        "x = df['sepal_length'][:-1]\n",
        "y = df['sepal_width'][:-1]\n",
        "z = df['petal_length'][:-1]\n",
        "c = df['petal_width'][:-1]\n",
        "point_of_interest = [6.4, 3.2, 4, 0.2]\n",
        "distances = np.sqrt((x - point_of_interest[0])**2 + (y - point_of_interest[1])**2 + (z - point_of_interest[2])**2 + (c - point_of_interest[3])**2)\n",
        "\n",
        "# find x index from nearest neighbor\n",
        "k = 3\n",
        "nearest_indices = np.argsort(distances)[:k]\n",
        "\n",
        "# visualize data\n",
        "fig = plt.figure()\n",
        "ax = fig.add_subplot(111, projection='3d')\n",
        "\n",
        "# plot using c variable with color\n",
        "img = ax.scatter(x, y, z, c=c, cmap='viridis', marker='o', s=100)\n",
        "fig.colorbar(img)\n",
        "\n",
        "# visualize k's nearest neighbor\n",
        "for idx in nearest_indices:\n",
        "    ax.text(x[idx], y[idx], z[idx], f'Distance: {distances[idx]:.2f}', fontsize=12)\n",
        "\n",
        "# visualize center plot\n",
        "ax.scatter(point_of_interest[0], point_of_interest[1], point_of_interest[2], c='red', marker='x', s=100, label='Point of Interest')\n",
        "\n",
        "ax.set_xlabel('sepal_length')\n",
        "ax.set_ylabel('sepal_width')\n",
        "ax.set_zlabel('petal_length')\n",
        "ax.set_title('K-Nearest Neighbors with Euclidean Distance')\n",
        "plt.legend()\n",
        "plt.show()"
      ],
      "metadata": {
        "id": "_jmZ3354zs8j"
      },
      "execution_count": null,
      "outputs": []
    },
    {
      "cell_type": "markdown",
      "source": [
        "## **PREPARING DATASET FOR TRAINING**"
      ],
      "metadata": {
        "id": "AbCk4rWX1MeI"
      }
    },
    {
      "cell_type": "code",
      "source": [
        "# 60% training data (random), 20% validation data, and 20% testing data\n",
        "train, valid, test = np.split(df.sample(frac=1), [int(0.6*len(df)), int(0.8*len(df))])\n",
        "\n",
        "# 100% training data\n",
        "# train = df.copy()"
      ],
      "metadata": {
        "id": "3f5YtBssZMqi"
      },
      "execution_count": 303,
      "outputs": []
    },
    {
      "cell_type": "code",
      "source": [
        "def scale_dataset(dataframe, oversample=False):\n",
        "  X = dataframe[dataframe.columns[:-1]].values\n",
        "  y = dataframe[dataframe.columns[-1]].values\n",
        "\n",
        "  # using standard scaler\n",
        "  scaler = StandardScaler()\n",
        "  X = scaler.fit_transform(X)\n",
        "\n",
        "  if oversample:\n",
        "    ros = RandomOverSampler()\n",
        "    X, y = ros.fit_resample(X, y)\n",
        "\n",
        "  data = np.hstack((X, np.reshape(y, (-1, 1))))\n",
        "\n",
        "  return data, X, y"
      ],
      "metadata": {
        "id": "Ho4oOr_SZ8XJ"
      },
      "execution_count": 305,
      "outputs": []
    },
    {
      "cell_type": "markdown",
      "source": [
        "## **TRAINING DATASET**"
      ],
      "metadata": {
        "id": "zLlbIqMl1uss"
      }
    },
    {
      "cell_type": "code",
      "source": [
        "train, X_train, y_train = scale_dataset(train, oversample=False)\n",
        "valid, X_valid, y_valid = scale_dataset(valid, oversample=False)\n",
        "test, X_test, y_test = scale_dataset(test, oversample=False)"
      ],
      "metadata": {
        "id": "dvLA_W2BZ9J2"
      },
      "execution_count": 306,
      "outputs": []
    },
    {
      "cell_type": "code",
      "source": [
        "knn_model = KNeighborsClassifier(n_neighbors=3)\n",
        "knn_model.fit(X_train, y_train)"
      ],
      "metadata": {
        "id": "DhLdyvuUaEAh"
      },
      "execution_count": null,
      "outputs": []
    },
    {
      "cell_type": "code",
      "source": [
        "y_pred = knn_model.predict(X_test)"
      ],
      "metadata": {
        "id": "9nXlsxiraFr_"
      },
      "execution_count": 308,
      "outputs": []
    },
    {
      "cell_type": "markdown",
      "source": [
        "## **TESTING AND SCORE**"
      ],
      "metadata": {
        "id": "rOmSt_on1z6j"
      }
    },
    {
      "cell_type": "code",
      "source": [
        "# print(classification_report(y_train, y_pred))\n",
        "print(classification_report(y_test, y_pred, zero_division=0))"
      ],
      "metadata": {
        "id": "iRXb5840aMF6"
      },
      "execution_count": null,
      "outputs": []
    },
    {
      "cell_type": "code",
      "source": [
        "pred = np.array([[6.4, 3.2, 4.0, 0.2]])\n",
        "predik = knn_model.predict(pred)\n",
        "predik"
      ],
      "metadata": {
        "id": "4eFl7pcGcQpv"
      },
      "execution_count": null,
      "outputs": []
    }
  ]
}